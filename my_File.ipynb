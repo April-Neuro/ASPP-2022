{
 "cells": [
  {
   "cell_type": "code",
   "execution_count": 1,
   "id": "34bf7031",
   "metadata": {},
   "outputs": [
    {
     "name": "stdout",
     "output_type": "stream",
     "text": [
      "Hello World\n"
     ]
    }
   ],
   "source": [
    "print('Hello World')"
   ]
  },
  {
   "cell_type": "code",
   "execution_count": 2,
   "id": "d09efd11",
   "metadata": {},
   "outputs": [],
   "source": [
    "print?"
   ]
  },
  {
   "cell_type": "code",
   "execution_count": 9,
   "id": "7000038c",
   "metadata": {},
   "outputs": [
    {
     "name": "stdout",
     "output_type": "stream",
     "text": [
      "hello there\n"
     ]
    }
   ],
   "source": [
    "s='hello there'\n",
    "print(s)"
   ]
  },
  {
   "cell_type": "code",
   "execution_count": 10,
   "id": "8ece1625",
   "metadata": {},
   "outputs": [
    {
     "name": "stdout",
     "output_type": "stream",
     "text": [
      "Hello World\n",
      "hello there\n"
     ]
    }
   ],
   "source": [
    "%run my_File.ipynb"
   ]
  },
  {
   "cell_type": "code",
   "execution_count": 19,
   "id": "2302f1a5",
   "metadata": {},
   "outputs": [
    {
     "name": "stdout",
     "output_type": "stream",
     "text": [
      "s\t \n"
     ]
    },
    {
     "data": {
      "text/plain": [
       "str"
      ]
     },
     "execution_count": 19,
     "metadata": {},
     "output_type": "execute_result"
    }
   ],
   "source": [
    "%who\n",
    "type(s)"
   ]
  },
  {
   "cell_type": "code",
   "execution_count": 1,
   "id": "92c5259d",
   "metadata": {},
   "outputs": [],
   "source": [
    "%quickref"
   ]
  },
  {
   "cell_type": "code",
   "execution_count": 6,
   "id": "42653885",
   "metadata": {},
   "outputs": [
    {
     "name": "stdout",
     "output_type": "stream",
     "text": [
      "[[0. 0. 1. ... 3. 0. 0.]\n",
      " [0. 1. 2. ... 1. 0. 1.]\n",
      " [0. 1. 1. ... 2. 1. 1.]\n",
      " ...\n",
      " [0. 1. 1. ... 1. 1. 1.]\n",
      " [0. 0. 0. ... 0. 2. 0.]\n",
      " [0. 0. 1. ... 1. 1. 0.]]\n"
     ]
    }
   ],
   "source": [
    "import numpy as np\n",
    "\n",
    "data=np.loadtxt(fname='PyPractice/data/inflammation-01.csv',delimiter=',')\n",
    "print(data)"
   ]
  },
  {
   "cell_type": "code",
   "execution_count": 9,
   "id": "d042fd67",
   "metadata": {},
   "outputs": [
    {
     "name": "stdout",
     "output_type": "stream",
     "text": [
      "<class 'numpy.ndarray'>\n",
      "float64\n",
      "(60, 40)\n"
     ]
    }
   ],
   "source": [
    "#let's get some info about the data array\n",
    "\n",
    "print(type(data)) #tells us this is an n dimensional array\n",
    "\n",
    "print(data.dtype) #tells us what is actually in the array\n",
    "\n",
    "print(data.shape) #60 rows, 40 columns"
   ]
  },
  {
   "cell_type": "code",
   "execution_count": 11,
   "id": "fd4b047e",
   "metadata": {},
   "outputs": [
    {
     "name": "stdout",
     "output_type": "stream",
     "text": [
      "first value in data:  0.0\n",
      "third value in data:  1.0\n"
     ]
    }
   ],
   "source": [
    "#calling specific values requires indexing with brackets\n",
    "print('first value in data: ', data[0,0])\n",
    "print('third value in data: ', data[0,2])#row zero column 2\n"
   ]
  },
  {
   "cell_type": "code",
   "execution_count": 15,
   "id": "f2799d4a",
   "metadata": {},
   "outputs": [
    {
     "name": "stdout",
     "output_type": "stream",
     "text": [
      "total:  171\n",
      "171\n",
      "count =  6\n",
      "6\n"
     ]
    }
   ],
   "source": [
    "# a simple for loop to sum numbers\n",
    "numbers=[1,3,45,6,87,29]\n",
    "total = 0\n",
    "for interval in numbers:\n",
    "    total = total + interval\n",
    "print('total: ',total)\n",
    "\n",
    "\n",
    "#or simply use the built in function\n",
    "print(sum(numbers))\n",
    "\n",
    "# note that this loop does not need to use the iteration variable at all\n",
    "count = 0\n",
    "for intervar in numbers:\n",
    "    count=count+1\n",
    "print(\"count = \",count)\n",
    "\n",
    "#or simply use length function\n",
    "print(len(numbers))"
   ]
  },
  {
   "cell_type": "code",
   "execution_count": 39,
   "id": "40d37c2b",
   "metadata": {},
   "outputs": [
    {
     "name": "stdout",
     "output_type": "stream",
     "text": [
      "working\n"
     ]
    }
   ],
   "source": [
    "#exercise 5.9.1\n",
    "count=0\n",
    "total=0\n",
    "lastNumber=0\n",
    "largest=0\n",
    "print('working')\n",
    "\n"
   ]
  },
  {
   "cell_type": "code",
   "execution_count": 77,
   "id": "6dbea52a",
   "metadata": {},
   "outputs": [
    {
     "name": "stdout",
     "output_type": "stream",
     "text": [
      "working\n",
      "Enter a number: \n",
      "4541657615649761\n",
      "your number is  4541657615649761\n",
      "Enter a number: \n",
      "poop\n",
      "please use only numbers\n",
      "Enter a number: \n",
      "66425\n",
      "your number is  66425\n",
      "Enter a number: \n",
      "done\n",
      "Done!\n",
      "count =  2 \n",
      "total=  4541657615716186 \n",
      "Average=  2270828807858093.0 \n",
      "Max=  4541657615649761\n"
     ]
    }
   ],
   "source": [
    "#exercise 5.9.1\n",
    "count=0\n",
    "total=0\n",
    "lastNumber=0\n",
    "largest=0\n",
    "print('working')\n",
    "\n",
    "\n",
    "while True:\n",
    "    thisNumber=input('Enter a number: \\n')\n",
    "    #first make sure its a number\n",
    "    try:\n",
    "        thisNumber=int(thisNumber)              \n",
    "        count=count+1\n",
    "        total=total+thisNumber\n",
    "        print('your number is ', thisNumber)\n",
    "        if thisNumber>lastNumber and thisNumber > largest:\n",
    "            largest=thisNumber\n",
    "            lastNumber=thisNumber\n",
    "        else:\n",
    "            lastNumber=thisNumber       \n",
    "    except:\n",
    "        if thisNumber==\"done\":\n",
    "            break\n",
    "        else:\n",
    "            print('please use only numbers')\n",
    "\n",
    "\n",
    "    \n",
    "print('Done!') \n",
    "print('count = ',count, '\\ntotal= ',total, '\\nAverage= ',total/count,'\\nMax= ', largest)"
   ]
  },
  {
   "cell_type": "code",
   "execution_count": 50,
   "id": "61943b9e",
   "metadata": {},
   "outputs": [
    {
     "name": "stdout",
     "output_type": "stream",
     "text": [
      "5\n"
     ]
    },
    {
     "data": {
      "text/plain": [
       "True"
      ]
     },
     "execution_count": 50,
     "metadata": {},
     "output_type": "execute_result"
    }
   ],
   "source": [
    "#exercise 6.5.3\n",
    "def countLetter(word,letter):\n",
    "    count=0\n",
    "    for character in word:\n",
    "        if character == letter:\n",
    "            count = count +1\n",
    "    print(count)\n",
    "#remember that count was defined before. If i want to save this new count variable, i need to say \"return(count)\"\n",
    "    \n",
    "countLetter('stringadingadiddydoo','d')\n",
    "\n",
    "#you can test if the letter is in the word using in\n",
    "\"a\" in 'banana'"
   ]
  },
  {
   "cell_type": "code",
   "execution_count": 66,
   "id": "91c01f4e",
   "metadata": {},
   "outputs": [
    {
     "name": "stdout",
     "output_type": "stream",
     "text": [
      "<class 'str'>\n",
      "APRIL AND FRIENDS\n",
      "13\n"
     ]
    }
   ],
   "source": [
    "#testing for methods\n",
    "\n",
    "stuff=\"april and friends\"\n",
    "print(type(stuff))\n",
    "dir((stuff))\n",
    "\n",
    "#use dot notation for methods\n",
    "\n",
    "newStuff=stuff.upper()\n",
    "print(newStuff)\n",
    "\n",
    "#let's try the find method\n",
    "index=stuff.find('e')\n",
    "print(index)"
   ]
  },
  {
   "cell_type": "code",
   "execution_count": 73,
   "id": "a9dbc57f",
   "metadata": {},
   "outputs": [
    {
     "name": "stdout",
     "output_type": "stream",
     "text": [
      "Help on method_descriptor:\n",
      "\n",
      "count(...)\n",
      "    S.count(sub[, start[, end]]) -> int\n",
      "    \n",
      "    Return the number of non-overlapping occurrences of substring sub in\n",
      "    string S[start:end].  Optional arguments start and end are\n",
      "    interpreted as in slice notation.\n",
      "\n"
     ]
    }
   ],
   "source": [
    "help(str.count)"
   ]
  },
  {
   "cell_type": "code",
   "execution_count": 74,
   "id": "9fc9606a",
   "metadata": {},
   "outputs": [
    {
     "data": {
      "text/plain": [
       "3"
      ]
     },
     "execution_count": 74,
     "metadata": {},
     "output_type": "execute_result"
    }
   ],
   "source": [
    "word='bananas'\n",
    "word.count('a')\n"
   ]
  },
  {
   "cell_type": "code",
   "execution_count": 132,
   "id": "86a60a68",
   "metadata": {},
   "outputs": [
    {
     "name": "stdout",
     "output_type": "stream",
     "text": [
      "<_io.TextIOWrapper name='PyPractice/mbox.txt' mode='r' encoding='cp1252'>\n",
      "Line Count =  132045\n",
      "94626\n",
      "line count=  0\n"
     ]
    }
   ],
   "source": [
    "\n",
    "#chapter 7.2 \n",
    "#download file from https://www.py4e.com/code3/mbox.txt\n",
    "fhand = open('PyPractice/mbox.txt') #don't forget the quotation marks\n",
    "print(fhand) #file handle \n",
    "\n",
    "count =0\n",
    "for line in fhand: #line is a reserved word in python? \n",
    "    count=count+1\n",
    "print('Line Count = ',count)\n",
    "\n",
    "\n",
    "fhand_short=open('PyPractice/mbox-short.txt','r')\n",
    "#if the file is too big for the main memory,\n",
    "#make sure to write a loop to read the file in chunks\n",
    "\n",
    "inp=fhand_short.read() #always save this as a variable because the .read() method can only be used the first time\n",
    "print(len(inp))\n",
    "#print(inp[0:20])\n",
    "\n",
    "count=0\n",
    "for line in inp:\n",
    "    if line.startswith('From'):\n",
    "        print(line)\n",
    "        count+=1\n",
    "print('line count= ',count)\n",
    "\n"
   ]
  },
  {
   "cell_type": "code",
   "execution_count": 139,
   "id": "6025f14c",
   "metadata": {},
   "outputs": [
    {
     "name": "stdout",
     "output_type": "stream",
     "text": [
      "False\n",
      "line count=  55\n"
     ]
    }
   ],
   "source": [
    "fhand_short=open('PyPractice/mbox-short.txt')\n",
    "#inp=fhand_short.readlines() #always save this as a variable because the .read() method can only be used the first time\n",
    "#print(len(inp)) #had to use readlines() to count each line rather than each character, or just use open\n",
    "\n",
    "count=0\n",
    "for line in fhand_short:\n",
    "    line=line.rstrip() #removes extra spaces\n",
    "    if line.startswith('F'):\n",
    "        #print(line)\n",
    "        count+=1\n",
    "print('\\n' in fhand_short)\n",
    "\n",
    "print('line count= ',count)"
   ]
  },
  {
   "cell_type": "code",
   "execution_count": 140,
   "id": "c8be4641",
   "metadata": {},
   "outputs": [],
   "source": [
    "fhand_short=open('PyPractice/mbox-short.txt')\n"
   ]
  }
 ],
 "metadata": {
  "kernelspec": {
   "display_name": "Python 3 (ipykernel)",
   "language": "python",
   "name": "python3"
  },
  "language_info": {
   "codemirror_mode": {
    "name": "ipython",
    "version": 3
   },
   "file_extension": ".py",
   "mimetype": "text/x-python",
   "name": "python",
   "nbconvert_exporter": "python",
   "pygments_lexer": "ipython3",
   "version": "3.8.13"
  }
 },
 "nbformat": 4,
 "nbformat_minor": 5
}
